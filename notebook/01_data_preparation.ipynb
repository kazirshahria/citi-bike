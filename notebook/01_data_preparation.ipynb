{
 "cells": [
  {
   "cell_type": "markdown",
   "id": "1cf8d885",
   "metadata": {},
   "source": [
    "# Data Preparation\n",
    "\n",
    "This notebook will organize, clean, and store the data into a parquet file. \n",
    "\n",
    "More details on the validity and information of the dataset can be found [here](https://citibikenyc.com/system-data). \n",
    "\n",
    "For the purpose of this project, the downloaded files are stored in the `/data` folder. There is another way to collect data from the previous years, however, that can be programmatically done in the near future."
   ]
  },
  {
   "cell_type": "markdown",
   "id": "b6dd546b",
   "metadata": {},
   "source": [
    "## 1. Combine The Multiple Excel Files\n",
    "\n",
    "The files that were downloaded are typically in a `.zip`.\n",
    "\n",
    "The program below locates the local `/data` folder and the Excel files within. It will combine and save the raw data as a parquet file to be used for further data preprocessing."
   ]
  },
  {
   "cell_type": "code",
   "execution_count": 61,
   "id": "9fc4e7ab",
   "metadata": {},
   "outputs": [],
   "source": [
    "import math\n",
    "import pandas as pd\n",
    "from geopy.geocoders import Nominatim\n",
    "from geopy.extra.rate_limiter import RateLimiter\n",
    "\n",
    "import warnings\n",
    "warnings.filterwarnings('ignore')"
   ]
  },
  {
   "cell_type": "code",
   "execution_count": 9,
   "id": "84e6568b",
   "metadata": {},
   "outputs": [
    {
     "name": "stdout",
     "output_type": "stream",
     "text": [
      "[14/07/2025 20:15]: 1/7\n",
      "[14/07/2025 20:15]: 2/7\n",
      "[14/07/2025 20:15]: 3/7\n",
      "[14/07/2025 20:15]: 4/7\n",
      "[14/07/2025 20:16]: 5/7\n"
     ]
    }
   ],
   "source": [
    "import os\n",
    "from datetime import datetime\n",
    "\n",
    "path = os.getcwd()\n",
    "data_path = os.path.join(path, '..', 'data')\n",
    "data_files = os.listdir(data_path)\n",
    "\n",
    "dfs = []\n",
    "for i, data_file in enumerate(data_files, start=1):\n",
    "\n",
    "    if (data_file == 'zip') | (data_file == 'saved_data'):\n",
    "        continue\n",
    "    \n",
    "    else:\n",
    "        trip_data_path = os.path.join(data_path, data_file)\n",
    "        csv_files = os.listdir(trip_data_path)\n",
    "\n",
    "        for csv_file in csv_files:\n",
    "            csv_path = os.path.join(trip_data_path, csv_file)\n",
    "            dfs.append(pd.read_csv(csv_path, dtype='str'))\n",
    "\n",
    "    print(f'[{datetime.now().strftime('%d/%m/%Y %H:%M')}]: {i}/{len(data_files)}')\n",
    "\n",
    "df = pd.concat(dfs)\n",
    "save_path = os.path.join(data_path, 'saved_data', 'raw_citibike_trips.parquet')\n",
    "df.to_parquet(save_path)"
   ]
  },
  {
   "cell_type": "code",
   "execution_count": 10,
   "id": "327fe454",
   "metadata": {},
   "outputs": [
    {
     "data": {
      "text/html": [
       "<div>\n",
       "<style scoped>\n",
       "    .dataframe tbody tr th:only-of-type {\n",
       "        vertical-align: middle;\n",
       "    }\n",
       "\n",
       "    .dataframe tbody tr th {\n",
       "        vertical-align: top;\n",
       "    }\n",
       "\n",
       "    .dataframe thead th {\n",
       "        text-align: right;\n",
       "    }\n",
       "</style>\n",
       "<table border=\"1\" class=\"dataframe\">\n",
       "  <thead>\n",
       "    <tr style=\"text-align: right;\">\n",
       "      <th></th>\n",
       "      <th>ride_id</th>\n",
       "      <th>rideable_type</th>\n",
       "      <th>started_at</th>\n",
       "      <th>ended_at</th>\n",
       "      <th>start_station_name</th>\n",
       "      <th>start_station_id</th>\n",
       "      <th>end_station_name</th>\n",
       "      <th>end_station_id</th>\n",
       "      <th>start_lat</th>\n",
       "      <th>start_lng</th>\n",
       "      <th>end_lat</th>\n",
       "      <th>end_lng</th>\n",
       "      <th>member_casual</th>\n",
       "    </tr>\n",
       "  </thead>\n",
       "  <tbody>\n",
       "    <tr>\n",
       "      <th>0</th>\n",
       "      <td>56BD148A05E26915</td>\n",
       "      <td>electric_bike</td>\n",
       "      <td>2025-01-01 22:19:06.324</td>\n",
       "      <td>2025-01-01 22:23:32.899</td>\n",
       "      <td>W 36 St &amp; 7 Ave</td>\n",
       "      <td>6483.06</td>\n",
       "      <td>W 24 St &amp; 7 Ave</td>\n",
       "      <td>6257.03</td>\n",
       "      <td>40.752149</td>\n",
       "      <td>-73.989539</td>\n",
       "      <td>40.74487634</td>\n",
       "      <td>-73.99529885</td>\n",
       "      <td>member</td>\n",
       "    </tr>\n",
       "    <tr>\n",
       "      <th>1</th>\n",
       "      <td>700CCCDF00C08077</td>\n",
       "      <td>electric_bike</td>\n",
       "      <td>2025-01-09 15:20:43.991</td>\n",
       "      <td>2025-01-09 15:26:19.137</td>\n",
       "      <td>Broadway &amp; E 19 St</td>\n",
       "      <td>5980.11</td>\n",
       "      <td>W 24 St &amp; 7 Ave</td>\n",
       "      <td>6257.03</td>\n",
       "      <td>40.73829</td>\n",
       "      <td>-73.99006</td>\n",
       "      <td>40.74487634</td>\n",
       "      <td>-73.99529885</td>\n",
       "      <td>member</td>\n",
       "    </tr>\n",
       "    <tr>\n",
       "      <th>2</th>\n",
       "      <td>B1A3FAFA5FE651CE</td>\n",
       "      <td>electric_bike</td>\n",
       "      <td>2025-01-01 12:54:26.571</td>\n",
       "      <td>2025-01-01 13:03:03.565</td>\n",
       "      <td>Jackson Ave &amp; 46 Rd</td>\n",
       "      <td>6203.02</td>\n",
       "      <td>Crescent St &amp; Broadway</td>\n",
       "      <td>6827.11</td>\n",
       "      <td>40.74524768</td>\n",
       "      <td>-73.94733276</td>\n",
       "      <td>40.7633589</td>\n",
       "      <td>-73.9286471</td>\n",
       "      <td>member</td>\n",
       "    </tr>\n",
       "    <tr>\n",
       "      <th>3</th>\n",
       "      <td>9CB0F28054BA5EBC</td>\n",
       "      <td>electric_bike</td>\n",
       "      <td>2025-01-14 13:43:59.151</td>\n",
       "      <td>2025-01-14 13:49:04.543</td>\n",
       "      <td>Broadway &amp; E 19 St</td>\n",
       "      <td>5980.11</td>\n",
       "      <td>W 24 St &amp; 7 Ave</td>\n",
       "      <td>6257.03</td>\n",
       "      <td>40.73829</td>\n",
       "      <td>-73.99006</td>\n",
       "      <td>40.74487634</td>\n",
       "      <td>-73.99529885</td>\n",
       "      <td>member</td>\n",
       "    </tr>\n",
       "    <tr>\n",
       "      <th>4</th>\n",
       "      <td>A1B8FDD4FAF0C2B2</td>\n",
       "      <td>electric_bike</td>\n",
       "      <td>2025-01-13 07:20:37.176</td>\n",
       "      <td>2025-01-13 07:29:18.015</td>\n",
       "      <td>Willis Ave &amp; E 143 St</td>\n",
       "      <td>7798.02</td>\n",
       "      <td>1 Ave &amp; E 110 St</td>\n",
       "      <td>7522.02</td>\n",
       "      <td>40.812299</td>\n",
       "      <td>-73.92037</td>\n",
       "      <td>40.7923272</td>\n",
       "      <td>-73.9383</td>\n",
       "      <td>member</td>\n",
       "    </tr>\n",
       "  </tbody>\n",
       "</table>\n",
       "</div>"
      ],
      "text/plain": [
       "            ride_id  rideable_type               started_at  \\\n",
       "0  56BD148A05E26915  electric_bike  2025-01-01 22:19:06.324   \n",
       "1  700CCCDF00C08077  electric_bike  2025-01-09 15:20:43.991   \n",
       "2  B1A3FAFA5FE651CE  electric_bike  2025-01-01 12:54:26.571   \n",
       "3  9CB0F28054BA5EBC  electric_bike  2025-01-14 13:43:59.151   \n",
       "4  A1B8FDD4FAF0C2B2  electric_bike  2025-01-13 07:20:37.176   \n",
       "\n",
       "                  ended_at     start_station_name start_station_id  \\\n",
       "0  2025-01-01 22:23:32.899        W 36 St & 7 Ave          6483.06   \n",
       "1  2025-01-09 15:26:19.137     Broadway & E 19 St          5980.11   \n",
       "2  2025-01-01 13:03:03.565    Jackson Ave & 46 Rd          6203.02   \n",
       "3  2025-01-14 13:49:04.543     Broadway & E 19 St          5980.11   \n",
       "4  2025-01-13 07:29:18.015  Willis Ave & E 143 St          7798.02   \n",
       "\n",
       "         end_station_name end_station_id    start_lat     start_lng  \\\n",
       "0         W 24 St & 7 Ave        6257.03    40.752149    -73.989539   \n",
       "1         W 24 St & 7 Ave        6257.03     40.73829     -73.99006   \n",
       "2  Crescent St & Broadway        6827.11  40.74524768  -73.94733276   \n",
       "3         W 24 St & 7 Ave        6257.03     40.73829     -73.99006   \n",
       "4        1 Ave & E 110 St        7522.02    40.812299     -73.92037   \n",
       "\n",
       "       end_lat       end_lng member_casual  \n",
       "0  40.74487634  -73.99529885        member  \n",
       "1  40.74487634  -73.99529885        member  \n",
       "2   40.7633589   -73.9286471        member  \n",
       "3  40.74487634  -73.99529885        member  \n",
       "4   40.7923272      -73.9383        member  "
      ]
     },
     "execution_count": 10,
     "metadata": {},
     "output_type": "execute_result"
    }
   ],
   "source": [
    "df.head()"
   ]
  },
  {
   "cell_type": "markdown",
   "id": "824917eb",
   "metadata": {},
   "source": [
    "## 2. Normalize The RAW Data\n",
    "\n",
    "Make sure the data is ready for analysis.\n",
    "\n",
    "This section will manipulate and clean the data. "
   ]
  },
  {
   "cell_type": "code",
   "execution_count": 11,
   "id": "53fe5043",
   "metadata": {},
   "outputs": [
    {
     "data": {
      "text/plain": [
       "ride_id                   0\n",
       "rideable_type             0\n",
       "started_at                0\n",
       "ended_at                  0\n",
       "start_station_name     5375\n",
       "start_station_id       5375\n",
       "end_station_name      38086\n",
       "end_station_id        39983\n",
       "start_lat                 0\n",
       "start_lng                 0\n",
       "end_lat                2605\n",
       "end_lng                2605\n",
       "member_casual             0\n",
       "dtype: int64"
      ]
     },
     "execution_count": 11,
     "metadata": {},
     "output_type": "execute_result"
    }
   ],
   "source": [
    "null_values = df.isna().sum()\n",
    "null_values"
   ]
  },
  {
   "cell_type": "markdown",
   "id": "51bc705b",
   "metadata": {},
   "source": [
    "### 2a. Fix Data Types\n",
    "\n",
    "1. Convert station ids to numeric values\n",
    "2. Fix date columns to datetime"
   ]
  },
  {
   "cell_type": "code",
   "execution_count": 12,
   "id": "dcc1ab80",
   "metadata": {},
   "outputs": [],
   "source": [
    "df['start_station_id'] = pd.to_numeric(df['start_station_id'], errors='coerce')\n",
    "df['end_station_id'] = pd.to_numeric(df['end_station_id'], errors='coerce')"
   ]
  },
  {
   "cell_type": "code",
   "execution_count": 13,
   "id": "f618e9b2",
   "metadata": {},
   "outputs": [],
   "source": [
    "df['started_at'] = pd.to_datetime(df['started_at'])\n",
    "df['ended_at'] = pd.to_datetime(df['ended_at'])"
   ]
  },
  {
   "cell_type": "code",
   "execution_count": 47,
   "id": "89e38fe0",
   "metadata": {},
   "outputs": [],
   "source": [
    "df['start_lat'] = pd.to_numeric(df['start_lat'], errors='coerce')\n",
    "df['start_lng'] = pd.to_numeric(df['start_lng'], errors='coerce')\n",
    "df['end_lat'] = pd.to_numeric(df['end_lat'], errors='coerce')\n",
    "df['end_lng'] = pd.to_numeric(df['end_lng'], errors='coerce')"
   ]
  },
  {
   "cell_type": "markdown",
   "id": "8b751450",
   "metadata": {},
   "source": [
    "### 2b. Create A Stations DataFrame"
   ]
  },
  {
   "cell_type": "code",
   "execution_count": 48,
   "id": "d801c08d",
   "metadata": {},
   "outputs": [
    {
     "data": {
      "text/html": [
       "<div>\n",
       "<style scoped>\n",
       "    .dataframe tbody tr th:only-of-type {\n",
       "        vertical-align: middle;\n",
       "    }\n",
       "\n",
       "    .dataframe tbody tr th {\n",
       "        vertical-align: top;\n",
       "    }\n",
       "\n",
       "    .dataframe thead th {\n",
       "        text-align: right;\n",
       "    }\n",
       "</style>\n",
       "<table border=\"1\" class=\"dataframe\">\n",
       "  <thead>\n",
       "    <tr style=\"text-align: right;\">\n",
       "      <th></th>\n",
       "      <th>station_name</th>\n",
       "      <th>lat</th>\n",
       "      <th>lng</th>\n",
       "    </tr>\n",
       "    <tr>\n",
       "      <th>station_id</th>\n",
       "      <th></th>\n",
       "      <th></th>\n",
       "      <th></th>\n",
       "    </tr>\n",
       "  </thead>\n",
       "  <tbody>\n",
       "    <tr>\n",
       "      <th>6483.06</th>\n",
       "      <td>W 36 St &amp; 7 Ave</td>\n",
       "      <td>40.752149</td>\n",
       "      <td>-73.989539</td>\n",
       "    </tr>\n",
       "    <tr>\n",
       "      <th>5980.11</th>\n",
       "      <td>Broadway &amp; E 19 St</td>\n",
       "      <td>40.738290</td>\n",
       "      <td>-73.990060</td>\n",
       "    </tr>\n",
       "    <tr>\n",
       "      <th>6203.02</th>\n",
       "      <td>Jackson Ave &amp; 46 Rd</td>\n",
       "      <td>40.745248</td>\n",
       "      <td>-73.947333</td>\n",
       "    </tr>\n",
       "    <tr>\n",
       "      <th>7798.02</th>\n",
       "      <td>Willis Ave &amp; E 143 St</td>\n",
       "      <td>40.812299</td>\n",
       "      <td>-73.920370</td>\n",
       "    </tr>\n",
       "    <tr>\n",
       "      <th>8126.07</th>\n",
       "      <td>Grand Concourse &amp; E 167 St</td>\n",
       "      <td>40.834263</td>\n",
       "      <td>-73.917641</td>\n",
       "    </tr>\n",
       "  </tbody>\n",
       "</table>\n",
       "</div>"
      ],
      "text/plain": [
       "                          station_name        lat        lng\n",
       "station_id                                                  \n",
       "6483.06                W 36 St & 7 Ave  40.752149 -73.989539\n",
       "5980.11             Broadway & E 19 St  40.738290 -73.990060\n",
       "6203.02            Jackson Ave & 46 Rd  40.745248 -73.947333\n",
       "7798.02          Willis Ave & E 143 St  40.812299 -73.920370\n",
       "8126.07     Grand Concourse & E 167 St  40.834263 -73.917641"
      ]
     },
     "execution_count": 48,
     "metadata": {},
     "output_type": "execute_result"
    }
   ],
   "source": [
    "start_stations = df[\n",
    "    ['start_station_name', 'start_station_id', 'start_lat', 'start_lng']\n",
    "    ].drop_duplicates()\n",
    "\n",
    "end_stations = df[\n",
    "    ['end_station_name', 'end_station_id', 'end_lat', 'end_lng']\n",
    "    ].drop_duplicates()\n",
    "\n",
    "start_stations.rename(\n",
    "    columns={\n",
    "        'start_station_name': 'station_name',\n",
    "        'start_station_id': 'station_id',\n",
    "        'start_lat': 'lat',\n",
    "        'start_lng': 'lng'\n",
    "    },\n",
    "    inplace=True\n",
    ")\n",
    "\n",
    "end_stations.rename(\n",
    "    columns={\n",
    "        'end_station_name': 'station_name',\n",
    "        'end_station_id': 'station_id',\n",
    "        'end_lat': 'lat',\n",
    "        'end_lng': 'lng'\n",
    "    },\n",
    "    inplace=True\n",
    ")\n",
    "\n",
    "stations_df = pd.concat([start_stations, end_stations]).dropna()\n",
    "stations_df.set_index('station_id', inplace=True)\n",
    "stations_df.to_parquet('../data/saved_data/citibike_stations.parquet')\n",
    "stations_df.head()"
   ]
  },
  {
   "cell_type": "markdown",
   "id": "ebee3c82",
   "metadata": {},
   "source": [
    "### 2c. Fill Or Drop Missing Values"
   ]
  },
  {
   "cell_type": "code",
   "execution_count": 49,
   "id": "409cd9e4",
   "metadata": {},
   "outputs": [],
   "source": [
    "stations_dict = stations_df.to_dict()\n",
    "station_names = stations_dict['station_name']\n",
    "station_lats, station_lngs = stations_dict['lat'], stations_dict['lng']\n",
    "\n",
    "df['start_station_name'] = df['start_station_id'].map(station_names)\n",
    "df['end_station_name'] = df['end_station_id'].map(station_names)\n",
    "\n",
    "df['end_lat'] = df['end_station_id'].map(station_lats)\n",
    "df['end_lng'] = df['end_station_id'].map(station_lngs)"
   ]
  },
  {
   "cell_type": "code",
   "execution_count": null,
   "id": "f12c5b70",
   "metadata": {},
   "outputs": [
    {
     "name": "stdout",
     "output_type": "stream",
     "text": [
      "0.0% of records dropped from the DataFrame\n"
     ]
    }
   ],
   "source": [
    "perct_dropped = (df.isna().sum().max())/len(df)\n",
    "print(f'{round(perct_dropped * 100, 2)}% of records dropped from the DataFrame')\n",
    "df.dropna(inplace=True)"
   ]
  },
  {
   "cell_type": "markdown",
   "id": "161993ef",
   "metadata": {},
   "source": [
    "### 2d. Replace Textual Data"
   ]
  },
  {
   "cell_type": "code",
   "execution_count": 27,
   "id": "c4c2df18",
   "metadata": {},
   "outputs": [],
   "source": [
    "df['rideable_type'] = df['rideable_type'].str.replace('_bike', '').str.title()\n",
    "df['member_casual'] = df['member_casual'].str.title()"
   ]
  },
  {
   "cell_type": "markdown",
   "id": "c34021b0",
   "metadata": {},
   "source": [
    "## Feature Engineering\n",
    "\n",
    "- Trip duration (seconds)\n",
    "- Distance traveled (miles)"
   ]
  },
  {
   "cell_type": "markdown",
   "id": "ba703e84",
   "metadata": {},
   "source": [
    "### 3a. Calculate Trip Duration"
   ]
  },
  {
   "cell_type": "code",
   "execution_count": 39,
   "id": "7aa647e1",
   "metadata": {},
   "outputs": [],
   "source": [
    "df['trip_duration'] = (df['ended_at'] - df['started_at']).dt.seconds"
   ]
  },
  {
   "cell_type": "markdown",
   "id": "bab79dae",
   "metadata": {},
   "source": [
    "### 3b. Add Distance Traveled ([Haversine Formula](https://www.geeksforgeeks.org/dsa/haversine-formula-to-find-distance-between-two-points-on-a-sphere/))"
   ]
  },
  {
   "cell_type": "code",
   "execution_count": 51,
   "id": "7256869f",
   "metadata": {},
   "outputs": [],
   "source": [
    "def haversine(lat1, lon1, lat2, lon2):\n",
    "    dLat = (lat2 - lat1) * math.pi / 180.0\n",
    "    dLon = (lon2 - lon1) * math.pi / 180.0\n",
    "\n",
    "    lat1 = (lat1) * math.pi / 180.0\n",
    "    lat2 = (lat2) * math.pi / 180.0\n",
    "\n",
    "    a = (pow(math.sin(dLat / 2), 2) + \n",
    "         pow(math.sin(dLon / 2), 2) * \n",
    "             math.cos(lat1) * math.cos(lat2));\n",
    "    rad = 6371\n",
    "    c = 2 * math.asin(math.sqrt(a))\n",
    "    return rad * c * 0.6213711922\n",
    "\n",
    "df['trip_distance'] = df.apply(\n",
    "    lambda x:\n",
    "    haversine(\n",
    "        x['start_lat'],\n",
    "        x['start_lng'],\n",
    "        x['end_lat'],\n",
    "        x['end_lng']\n",
    "    ),\n",
    "    axis=1\n",
    ")"
   ]
  },
  {
   "cell_type": "markdown",
   "id": "fc89c832",
   "metadata": {},
   "source": [
    "## 4. Save The Data"
   ]
  },
  {
   "cell_type": "code",
   "execution_count": 55,
   "id": "f4e791bf",
   "metadata": {},
   "outputs": [
    {
     "name": "stderr",
     "output_type": "stream",
     "text": [
      "C:\\Users\\kazir\\AppData\\Local\\Temp\\ipykernel_23196\\1594007788.py:3: SettingWithCopyWarning: \n",
      "A value is trying to be set on a copy of a slice from a DataFrame\n",
      "\n",
      "See the caveats in the documentation: https://pandas.pydata.org/pandas-docs/stable/user_guide/indexing.html#returning-a-view-versus-a-copy\n",
      "  df.drop_duplicates(inplace=True)\n"
     ]
    },
    {
     "ename": "KeyError",
     "evalue": "\"None of ['ride_id'] are in the columns\"",
     "output_type": "error",
     "traceback": [
      "\u001b[31m---------------------------------------------------------------------------\u001b[39m",
      "\u001b[31mKeyError\u001b[39m                                  Traceback (most recent call last)",
      "\u001b[32m~\\AppData\\Local\\Temp\\ipykernel_23196\\1594007788.py\u001b[39m in \u001b[36m?\u001b[39m\u001b[34m()\u001b[39m\n\u001b[32m      1\u001b[39m df = df[\u001b[32m60\u001b[39m * \u001b[32m120\u001b[39m >= df[\u001b[33m'trip_duration'\u001b[39m]]\n\u001b[32m      2\u001b[39m \n\u001b[32m      3\u001b[39m df.drop_duplicates(inplace=\u001b[38;5;28;01mTrue\u001b[39;00m)\n\u001b[32m----> \u001b[39m\u001b[32m4\u001b[39m df.set_index(\u001b[33m'ride_id'\u001b[39m, inplace=\u001b[38;5;28;01mTrue\u001b[39;00m)\n\u001b[32m      5\u001b[39m df.to_parquet(\u001b[33m'../data/saved_data/clean_citibike_trips.parquet'\u001b[39m)\n",
      "\u001b[32mc:\\Users\\kazir\\AppData\\Local\\pypoetry\\Cache\\virtualenvs\\citi-bike-YzbtwJIY-py3.13\\Lib\\site-packages\\pandas\\core\\frame.py\u001b[39m in \u001b[36m?\u001b[39m\u001b[34m(self, keys, drop, append, inplace, verify_integrity)\u001b[39m\n\u001b[32m   6125\u001b[39m                     \u001b[38;5;28;01mif\u001b[39;00m \u001b[38;5;28;01mnot\u001b[39;00m found:\n\u001b[32m   6126\u001b[39m                         missing.append(col)\n\u001b[32m   6127\u001b[39m \n\u001b[32m   6128\u001b[39m         \u001b[38;5;28;01mif\u001b[39;00m missing:\n\u001b[32m-> \u001b[39m\u001b[32m6129\u001b[39m             \u001b[38;5;28;01mraise\u001b[39;00m KeyError(f\"None of {missing} are in the columns\")\n\u001b[32m   6130\u001b[39m \n\u001b[32m   6131\u001b[39m         \u001b[38;5;28;01mif\u001b[39;00m inplace:\n\u001b[32m   6132\u001b[39m             frame = self\n",
      "\u001b[31mKeyError\u001b[39m: \"None of ['ride_id'] are in the columns\""
     ]
    }
   ],
   "source": [
    "df = df[60 * 120 >= df['trip_duration']]\n",
    "\n",
    "df.drop_duplicates(inplace=True)\n",
    "df.set_index('ride_id', inplace=True)\n",
    "df.to_parquet('../data/saved_data/clean_citibike_trips.parquet')"
   ]
  },
  {
   "cell_type": "code",
   "execution_count": 56,
   "id": "f7b4edba",
   "metadata": {},
   "outputs": [
    {
     "data": {
      "text/html": [
       "<div>\n",
       "<style scoped>\n",
       "    .dataframe tbody tr th:only-of-type {\n",
       "        vertical-align: middle;\n",
       "    }\n",
       "\n",
       "    .dataframe tbody tr th {\n",
       "        vertical-align: top;\n",
       "    }\n",
       "\n",
       "    .dataframe thead th {\n",
       "        text-align: right;\n",
       "    }\n",
       "</style>\n",
       "<table border=\"1\" class=\"dataframe\">\n",
       "  <thead>\n",
       "    <tr style=\"text-align: right;\">\n",
       "      <th></th>\n",
       "      <th>rideable_type</th>\n",
       "      <th>started_at</th>\n",
       "      <th>ended_at</th>\n",
       "      <th>start_station_name</th>\n",
       "      <th>start_station_id</th>\n",
       "      <th>end_station_name</th>\n",
       "      <th>end_station_id</th>\n",
       "      <th>start_lat</th>\n",
       "      <th>start_lng</th>\n",
       "      <th>end_lat</th>\n",
       "      <th>end_lng</th>\n",
       "      <th>member_casual</th>\n",
       "      <th>trip_duration</th>\n",
       "      <th>trip_distance</th>\n",
       "    </tr>\n",
       "    <tr>\n",
       "      <th>ride_id</th>\n",
       "      <th></th>\n",
       "      <th></th>\n",
       "      <th></th>\n",
       "      <th></th>\n",
       "      <th></th>\n",
       "      <th></th>\n",
       "      <th></th>\n",
       "      <th></th>\n",
       "      <th></th>\n",
       "      <th></th>\n",
       "      <th></th>\n",
       "      <th></th>\n",
       "      <th></th>\n",
       "      <th></th>\n",
       "    </tr>\n",
       "  </thead>\n",
       "  <tbody>\n",
       "    <tr>\n",
       "      <th>56BD148A05E26915</th>\n",
       "      <td>Electric</td>\n",
       "      <td>2025-01-01 22:19:06.324</td>\n",
       "      <td>2025-01-01 22:23:32.899</td>\n",
       "      <td>W 36 St &amp; 7 Ave</td>\n",
       "      <td>6483.06</td>\n",
       "      <td>W 24 St &amp; 7 Ave</td>\n",
       "      <td>6257.03</td>\n",
       "      <td>40.752149</td>\n",
       "      <td>-73.989539</td>\n",
       "      <td>40.744876</td>\n",
       "      <td>-73.995299</td>\n",
       "      <td>Member</td>\n",
       "      <td>266</td>\n",
       "      <td>0.586000</td>\n",
       "    </tr>\n",
       "    <tr>\n",
       "      <th>700CCCDF00C08077</th>\n",
       "      <td>Electric</td>\n",
       "      <td>2025-01-09 15:20:43.991</td>\n",
       "      <td>2025-01-09 15:26:19.137</td>\n",
       "      <td>Broadway &amp; E 19 St</td>\n",
       "      <td>5980.11</td>\n",
       "      <td>W 24 St &amp; 7 Ave</td>\n",
       "      <td>6257.03</td>\n",
       "      <td>40.738290</td>\n",
       "      <td>-73.990060</td>\n",
       "      <td>40.744876</td>\n",
       "      <td>-73.995299</td>\n",
       "      <td>Member</td>\n",
       "      <td>335</td>\n",
       "      <td>0.531323</td>\n",
       "    </tr>\n",
       "  </tbody>\n",
       "</table>\n",
       "</div>"
      ],
      "text/plain": [
       "                 rideable_type              started_at  \\\n",
       "ride_id                                                  \n",
       "56BD148A05E26915      Electric 2025-01-01 22:19:06.324   \n",
       "700CCCDF00C08077      Electric 2025-01-09 15:20:43.991   \n",
       "\n",
       "                                ended_at  start_station_name  \\\n",
       "ride_id                                                        \n",
       "56BD148A05E26915 2025-01-01 22:23:32.899     W 36 St & 7 Ave   \n",
       "700CCCDF00C08077 2025-01-09 15:26:19.137  Broadway & E 19 St   \n",
       "\n",
       "                  start_station_id end_station_name  end_station_id  \\\n",
       "ride_id                                                               \n",
       "56BD148A05E26915           6483.06  W 24 St & 7 Ave         6257.03   \n",
       "700CCCDF00C08077           5980.11  W 24 St & 7 Ave         6257.03   \n",
       "\n",
       "                  start_lat  start_lng    end_lat    end_lng member_casual  \\\n",
       "ride_id                                                                      \n",
       "56BD148A05E26915  40.752149 -73.989539  40.744876 -73.995299        Member   \n",
       "700CCCDF00C08077  40.738290 -73.990060  40.744876 -73.995299        Member   \n",
       "\n",
       "                  trip_duration  trip_distance  \n",
       "ride_id                                         \n",
       "56BD148A05E26915            266       0.586000  \n",
       "700CCCDF00C08077            335       0.531323  "
      ]
     },
     "execution_count": 56,
     "metadata": {},
     "output_type": "execute_result"
    }
   ],
   "source": [
    "df.head(2)"
   ]
  },
  {
   "cell_type": "markdown",
   "id": "6c08ed2c",
   "metadata": {},
   "source": [
    "## 5. Reverse Geocoding Stations\n",
    "\n",
    "[Credit](https://towardsdatascience.com/reverse-geocoding-with-nyc-bike-share-data-cdef427987f8/)"
   ]
  },
  {
   "cell_type": "code",
   "execution_count": 60,
   "id": "c245c994",
   "metadata": {},
   "outputs": [],
   "source": [
    "geo = Nominatim(user_agent=\"kazirshahria@gmail.com\")\n",
    "reverse = RateLimiter(geo.reverse, min_delay_seconds=1, max_retries=2)"
   ]
  },
  {
   "cell_type": "code",
   "execution_count": 66,
   "id": "4acfd546",
   "metadata": {},
   "outputs": [
    {
     "ename": "KeyboardInterrupt",
     "evalue": "",
     "output_type": "error",
     "traceback": [
      "\u001b[31m---------------------------------------------------------------------------\u001b[39m",
      "\u001b[31mKeyboardInterrupt\u001b[39m                         Traceback (most recent call last)",
      "\u001b[36mCell\u001b[39m\u001b[36m \u001b[39m\u001b[32mIn[66]\u001b[39m\u001b[32m, line 13\u001b[39m\n\u001b[32m     10\u001b[39m     postcode = address.get(\u001b[33m'\u001b[39m\u001b[33mpostcode\u001b[39m\u001b[33m'\u001b[39m)\n\u001b[32m     11\u001b[39m     \u001b[38;5;28;01mreturn\u001b[39;00m (neighborhood, borough, county, city, state, postcode)\n\u001b[32m---> \u001b[39m\u001b[32m13\u001b[39m values = \u001b[43mstations_df\u001b[49m\u001b[43m.\u001b[49m\u001b[43mapply\u001b[49m\u001b[43m(\u001b[49m\n\u001b[32m     14\u001b[39m \u001b[43m    \u001b[49m\u001b[38;5;28;43;01mlambda\u001b[39;49;00m\u001b[43m \u001b[49m\u001b[43mcol\u001b[49m\u001b[43m:\u001b[49m\u001b[43m \u001b[49m\n\u001b[32m     15\u001b[39m \u001b[43m    \u001b[49m\u001b[43mreverse_geocode\u001b[49m\u001b[43m(\u001b[49m\n\u001b[32m     16\u001b[39m \u001b[43m        \u001b[49m\u001b[43mcol\u001b[49m\u001b[43m[\u001b[49m\u001b[33;43m'\u001b[39;49m\u001b[33;43mlat\u001b[39;49m\u001b[33;43m'\u001b[39;49m\u001b[43m]\u001b[49m\u001b[43m,\u001b[49m\u001b[43m \u001b[49m\n\u001b[32m     17\u001b[39m \u001b[43m        \u001b[49m\u001b[43mcol\u001b[49m\u001b[43m[\u001b[49m\u001b[33;43m'\u001b[39;49m\u001b[33;43mlng\u001b[39;49m\u001b[33;43m'\u001b[39;49m\u001b[43m]\u001b[49m\n\u001b[32m     18\u001b[39m \u001b[43m        \u001b[49m\u001b[43m)\u001b[49m\u001b[43m,\u001b[49m\u001b[43m \u001b[49m\u001b[43maxis\u001b[49m\u001b[43m=\u001b[49m\u001b[32;43m1\u001b[39;49m\n\u001b[32m     19\u001b[39m \u001b[43m)\u001b[49m\n\u001b[32m     21\u001b[39m stations_df[\n\u001b[32m     22\u001b[39m     [\u001b[33m'\u001b[39m\u001b[33mneighborhood\u001b[39m\u001b[33m'\u001b[39m, \u001b[33m'\u001b[39m\u001b[33mborough\u001b[39m\u001b[33m'\u001b[39m, \u001b[33m'\u001b[39m\u001b[33mcounty\u001b[39m\u001b[33m'\u001b[39m, \u001b[33m'\u001b[39m\u001b[33mcity\u001b[39m\u001b[33m'\u001b[39m, \u001b[33m'\u001b[39m\u001b[33mstate\u001b[39m\u001b[33m'\u001b[39m, \u001b[33m'\u001b[39m\u001b[33mpostcode\u001b[39m\u001b[33m'\u001b[39m]\n\u001b[32m     23\u001b[39m     ] = values.apply(pd.Series)\n\u001b[32m     25\u001b[39m stations_df.head()\n",
      "\u001b[36mFile \u001b[39m\u001b[32mc:\\Users\\kazir\\AppData\\Local\\pypoetry\\Cache\\virtualenvs\\citi-bike-YzbtwJIY-py3.13\\Lib\\site-packages\\pandas\\core\\frame.py:10381\u001b[39m, in \u001b[36mDataFrame.apply\u001b[39m\u001b[34m(self, func, axis, raw, result_type, args, by_row, engine, engine_kwargs, **kwargs)\u001b[39m\n\u001b[32m  10367\u001b[39m \u001b[38;5;28;01mfrom\u001b[39;00m\u001b[38;5;250m \u001b[39m\u001b[34;01mpandas\u001b[39;00m\u001b[34;01m.\u001b[39;00m\u001b[34;01mcore\u001b[39;00m\u001b[34;01m.\u001b[39;00m\u001b[34;01mapply\u001b[39;00m\u001b[38;5;250m \u001b[39m\u001b[38;5;28;01mimport\u001b[39;00m frame_apply\n\u001b[32m  10369\u001b[39m op = frame_apply(\n\u001b[32m  10370\u001b[39m     \u001b[38;5;28mself\u001b[39m,\n\u001b[32m  10371\u001b[39m     func=func,\n\u001b[32m   (...)\u001b[39m\u001b[32m  10379\u001b[39m     kwargs=kwargs,\n\u001b[32m  10380\u001b[39m )\n\u001b[32m> \u001b[39m\u001b[32m10381\u001b[39m \u001b[38;5;28;01mreturn\u001b[39;00m \u001b[43mop\u001b[49m\u001b[43m.\u001b[49m\u001b[43mapply\u001b[49m\u001b[43m(\u001b[49m\u001b[43m)\u001b[49m.__finalize__(\u001b[38;5;28mself\u001b[39m, method=\u001b[33m\"\u001b[39m\u001b[33mapply\u001b[39m\u001b[33m\"\u001b[39m)\n",
      "\u001b[36mFile \u001b[39m\u001b[32mc:\\Users\\kazir\\AppData\\Local\\pypoetry\\Cache\\virtualenvs\\citi-bike-YzbtwJIY-py3.13\\Lib\\site-packages\\pandas\\core\\apply.py:916\u001b[39m, in \u001b[36mFrameApply.apply\u001b[39m\u001b[34m(self)\u001b[39m\n\u001b[32m    913\u001b[39m \u001b[38;5;28;01melif\u001b[39;00m \u001b[38;5;28mself\u001b[39m.raw:\n\u001b[32m    914\u001b[39m     \u001b[38;5;28;01mreturn\u001b[39;00m \u001b[38;5;28mself\u001b[39m.apply_raw(engine=\u001b[38;5;28mself\u001b[39m.engine, engine_kwargs=\u001b[38;5;28mself\u001b[39m.engine_kwargs)\n\u001b[32m--> \u001b[39m\u001b[32m916\u001b[39m \u001b[38;5;28;01mreturn\u001b[39;00m \u001b[38;5;28;43mself\u001b[39;49m\u001b[43m.\u001b[49m\u001b[43mapply_standard\u001b[49m\u001b[43m(\u001b[49m\u001b[43m)\u001b[49m\n",
      "\u001b[36mFile \u001b[39m\u001b[32mc:\\Users\\kazir\\AppData\\Local\\pypoetry\\Cache\\virtualenvs\\citi-bike-YzbtwJIY-py3.13\\Lib\\site-packages\\pandas\\core\\apply.py:1063\u001b[39m, in \u001b[36mFrameApply.apply_standard\u001b[39m\u001b[34m(self)\u001b[39m\n\u001b[32m   1061\u001b[39m \u001b[38;5;28;01mdef\u001b[39;00m\u001b[38;5;250m \u001b[39m\u001b[34mapply_standard\u001b[39m(\u001b[38;5;28mself\u001b[39m):\n\u001b[32m   1062\u001b[39m     \u001b[38;5;28;01mif\u001b[39;00m \u001b[38;5;28mself\u001b[39m.engine == \u001b[33m\"\u001b[39m\u001b[33mpython\u001b[39m\u001b[33m\"\u001b[39m:\n\u001b[32m-> \u001b[39m\u001b[32m1063\u001b[39m         results, res_index = \u001b[38;5;28;43mself\u001b[39;49m\u001b[43m.\u001b[49m\u001b[43mapply_series_generator\u001b[49m\u001b[43m(\u001b[49m\u001b[43m)\u001b[49m\n\u001b[32m   1064\u001b[39m     \u001b[38;5;28;01melse\u001b[39;00m:\n\u001b[32m   1065\u001b[39m         results, res_index = \u001b[38;5;28mself\u001b[39m.apply_series_numba()\n",
      "\u001b[36mFile \u001b[39m\u001b[32mc:\\Users\\kazir\\AppData\\Local\\pypoetry\\Cache\\virtualenvs\\citi-bike-YzbtwJIY-py3.13\\Lib\\site-packages\\pandas\\core\\apply.py:1081\u001b[39m, in \u001b[36mFrameApply.apply_series_generator\u001b[39m\u001b[34m(self)\u001b[39m\n\u001b[32m   1078\u001b[39m \u001b[38;5;28;01mwith\u001b[39;00m option_context(\u001b[33m\"\u001b[39m\u001b[33mmode.chained_assignment\u001b[39m\u001b[33m\"\u001b[39m, \u001b[38;5;28;01mNone\u001b[39;00m):\n\u001b[32m   1079\u001b[39m     \u001b[38;5;28;01mfor\u001b[39;00m i, v \u001b[38;5;129;01min\u001b[39;00m \u001b[38;5;28menumerate\u001b[39m(series_gen):\n\u001b[32m   1080\u001b[39m         \u001b[38;5;66;03m# ignore SettingWithCopy here in case the user mutates\u001b[39;00m\n\u001b[32m-> \u001b[39m\u001b[32m1081\u001b[39m         results[i] = \u001b[38;5;28;43mself\u001b[39;49m\u001b[43m.\u001b[49m\u001b[43mfunc\u001b[49m\u001b[43m(\u001b[49m\u001b[43mv\u001b[49m\u001b[43m,\u001b[49m\u001b[43m \u001b[49m\u001b[43m*\u001b[49m\u001b[38;5;28;43mself\u001b[39;49m\u001b[43m.\u001b[49m\u001b[43margs\u001b[49m\u001b[43m,\u001b[49m\u001b[43m \u001b[49m\u001b[43m*\u001b[49m\u001b[43m*\u001b[49m\u001b[38;5;28;43mself\u001b[39;49m\u001b[43m.\u001b[49m\u001b[43mkwargs\u001b[49m\u001b[43m)\u001b[49m\n\u001b[32m   1082\u001b[39m         \u001b[38;5;28;01mif\u001b[39;00m \u001b[38;5;28misinstance\u001b[39m(results[i], ABCSeries):\n\u001b[32m   1083\u001b[39m             \u001b[38;5;66;03m# If we have a view on v, we need to make a copy because\u001b[39;00m\n\u001b[32m   1084\u001b[39m             \u001b[38;5;66;03m#  series_generator will swap out the underlying data\u001b[39;00m\n\u001b[32m   1085\u001b[39m             results[i] = results[i].copy(deep=\u001b[38;5;28;01mFalse\u001b[39;00m)\n",
      "\u001b[36mCell\u001b[39m\u001b[36m \u001b[39m\u001b[32mIn[66]\u001b[39m\u001b[32m, line 15\u001b[39m, in \u001b[36m<lambda>\u001b[39m\u001b[34m(col)\u001b[39m\n\u001b[32m     10\u001b[39m     postcode = address.get(\u001b[33m'\u001b[39m\u001b[33mpostcode\u001b[39m\u001b[33m'\u001b[39m)\n\u001b[32m     11\u001b[39m     \u001b[38;5;28;01mreturn\u001b[39;00m (neighborhood, borough, county, city, state, postcode)\n\u001b[32m     13\u001b[39m values = stations_df.apply(\n\u001b[32m     14\u001b[39m     \u001b[38;5;28;01mlambda\u001b[39;00m col: \n\u001b[32m---> \u001b[39m\u001b[32m15\u001b[39m     \u001b[43mreverse_geocode\u001b[49m\u001b[43m(\u001b[49m\n\u001b[32m     16\u001b[39m \u001b[43m        \u001b[49m\u001b[43mcol\u001b[49m\u001b[43m[\u001b[49m\u001b[33;43m'\u001b[39;49m\u001b[33;43mlat\u001b[39;49m\u001b[33;43m'\u001b[39;49m\u001b[43m]\u001b[49m\u001b[43m,\u001b[49m\u001b[43m \u001b[49m\n\u001b[32m     17\u001b[39m \u001b[43m        \u001b[49m\u001b[43mcol\u001b[49m\u001b[43m[\u001b[49m\u001b[33;43m'\u001b[39;49m\u001b[33;43mlng\u001b[39;49m\u001b[33;43m'\u001b[39;49m\u001b[43m]\u001b[49m\n\u001b[32m     18\u001b[39m \u001b[43m        \u001b[49m\u001b[43m)\u001b[49m, axis=\u001b[32m1\u001b[39m\n\u001b[32m     19\u001b[39m )\n\u001b[32m     21\u001b[39m stations_df[\n\u001b[32m     22\u001b[39m     [\u001b[33m'\u001b[39m\u001b[33mneighborhood\u001b[39m\u001b[33m'\u001b[39m, \u001b[33m'\u001b[39m\u001b[33mborough\u001b[39m\u001b[33m'\u001b[39m, \u001b[33m'\u001b[39m\u001b[33mcounty\u001b[39m\u001b[33m'\u001b[39m, \u001b[33m'\u001b[39m\u001b[33mcity\u001b[39m\u001b[33m'\u001b[39m, \u001b[33m'\u001b[39m\u001b[33mstate\u001b[39m\u001b[33m'\u001b[39m, \u001b[33m'\u001b[39m\u001b[33mpostcode\u001b[39m\u001b[33m'\u001b[39m]\n\u001b[32m     23\u001b[39m     ] = values.apply(pd.Series)\n\u001b[32m     25\u001b[39m stations_df.head()\n",
      "\u001b[36mCell\u001b[39m\u001b[36m \u001b[39m\u001b[32mIn[66]\u001b[39m\u001b[32m, line 3\u001b[39m, in \u001b[36mreverse_geocode\u001b[39m\u001b[34m(lat, long)\u001b[39m\n\u001b[32m      1\u001b[39m \u001b[38;5;28;01mdef\u001b[39;00m\u001b[38;5;250m \u001b[39m\u001b[34mreverse_geocode\u001b[39m(lat, long):\n\u001b[32m      2\u001b[39m     coordinate = \u001b[33mf\u001b[39m\u001b[33m'\u001b[39m\u001b[38;5;132;01m{\u001b[39;00mlat\u001b[38;5;132;01m}\u001b[39;00m\u001b[33m, \u001b[39m\u001b[38;5;132;01m{\u001b[39;00mlong\u001b[38;5;132;01m}\u001b[39;00m\u001b[33m'\u001b[39m\n\u001b[32m----> \u001b[39m\u001b[32m3\u001b[39m     response = \u001b[43mreverse\u001b[49m\u001b[43m(\u001b[49m\u001b[43mcoordinate\u001b[49m\u001b[43m)\u001b[49m\n\u001b[32m      4\u001b[39m     address = response.raw[\u001b[33m'\u001b[39m\u001b[33maddress\u001b[39m\u001b[33m'\u001b[39m]\n\u001b[32m      5\u001b[39m     neighborhood = address.get(\u001b[33m'\u001b[39m\u001b[33mneighbourhood\u001b[39m\u001b[33m'\u001b[39m)\n",
      "\u001b[36mFile \u001b[39m\u001b[32mc:\\Users\\kazir\\AppData\\Local\\pypoetry\\Cache\\virtualenvs\\citi-bike-YzbtwJIY-py3.13\\Lib\\site-packages\\geopy\\extra\\rate_limiter.py:272\u001b[39m, in \u001b[36mRateLimiter.__call__\u001b[39m\u001b[34m(self, *args, **kwargs)\u001b[39m\n\u001b[32m    270\u001b[39m gen = \u001b[38;5;28mself\u001b[39m._retries_gen(args, kwargs)\n\u001b[32m    271\u001b[39m \u001b[38;5;28;01mfor\u001b[39;00m _ \u001b[38;5;129;01min\u001b[39;00m gen:\n\u001b[32m--> \u001b[39m\u001b[32m272\u001b[39m     \u001b[38;5;28;43mself\u001b[39;49m\u001b[43m.\u001b[49m\u001b[43m_acquire_request_slot\u001b[49m\u001b[43m(\u001b[49m\u001b[43m)\u001b[49m\n\u001b[32m    273\u001b[39m     \u001b[38;5;28;01mtry\u001b[39;00m:\n\u001b[32m    274\u001b[39m         res = \u001b[38;5;28mself\u001b[39m.func(*args, **kwargs)\n",
      "\u001b[36mFile \u001b[39m\u001b[32mc:\\Users\\kazir\\AppData\\Local\\pypoetry\\Cache\\virtualenvs\\citi-bike-YzbtwJIY-py3.13\\Lib\\site-packages\\geopy\\extra\\rate_limiter.py:267\u001b[39m, in \u001b[36mRateLimiter._acquire_request_slot\u001b[39m\u001b[34m(self)\u001b[39m\n\u001b[32m    265\u001b[39m \u001b[38;5;28;01mdef\u001b[39;00m\u001b[38;5;250m \u001b[39m\u001b[34m_acquire_request_slot\u001b[39m(\u001b[38;5;28mself\u001b[39m):\n\u001b[32m    266\u001b[39m     \u001b[38;5;28;01mfor\u001b[39;00m wait \u001b[38;5;129;01min\u001b[39;00m \u001b[38;5;28mself\u001b[39m._acquire_request_slot_gen():\n\u001b[32m--> \u001b[39m\u001b[32m267\u001b[39m         \u001b[38;5;28;43mself\u001b[39;49m\u001b[43m.\u001b[49m\u001b[43m_sleep\u001b[49m\u001b[43m(\u001b[49m\u001b[43mwait\u001b[49m\u001b[43m)\u001b[49m\n",
      "\u001b[36mFile \u001b[39m\u001b[32mc:\\Users\\kazir\\AppData\\Local\\pypoetry\\Cache\\virtualenvs\\citi-bike-YzbtwJIY-py3.13\\Lib\\site-packages\\geopy\\extra\\rate_limiter.py:263\u001b[39m, in \u001b[36mRateLimiter._sleep\u001b[39m\u001b[34m(self, seconds)\u001b[39m\n\u001b[32m    261\u001b[39m \u001b[38;5;28;01mdef\u001b[39;00m\u001b[38;5;250m \u001b[39m\u001b[34m_sleep\u001b[39m(\u001b[38;5;28mself\u001b[39m, seconds):  \u001b[38;5;66;03m# pragma: no cover\u001b[39;00m\n\u001b[32m    262\u001b[39m     logger.debug(\u001b[38;5;28mtype\u001b[39m(\u001b[38;5;28mself\u001b[39m).\u001b[34m__name__\u001b[39m + \u001b[33m\"\u001b[39m\u001b[33m sleep(\u001b[39m\u001b[38;5;132;01m%r\u001b[39;00m\u001b[33m)\u001b[39m\u001b[33m\"\u001b[39m, seconds)\n\u001b[32m--> \u001b[39m\u001b[32m263\u001b[39m     \u001b[43msleep\u001b[49m\u001b[43m(\u001b[49m\u001b[43mseconds\u001b[49m\u001b[43m)\u001b[49m\n",
      "\u001b[31mKeyboardInterrupt\u001b[39m: "
     ]
    }
   ],
   "source": [
    "def reverse_geocode(lat, long):\n",
    "    coordinate = f'{lat}, {long}'\n",
    "    response = reverse(coordinate)\n",
    "    address = response.raw['address']\n",
    "    neighborhood = address.get('neighbourhood')\n",
    "    borough = address.get('borough')\n",
    "    county = address.get('county')\n",
    "    city = address.get('city')\n",
    "    state = address.get('state')\n",
    "    postcode = address.get('postcode')\n",
    "    return (neighborhood, borough, county, city, state, postcode)\n",
    "\n",
    "values = stations_df.apply(\n",
    "    lambda col: \n",
    "    reverse_geocode(\n",
    "        col['lat'], \n",
    "        col['lng']\n",
    "        ), axis=1\n",
    ")\n",
    "\n",
    "stations_df[\n",
    "    ['neighborhood', 'borough', 'county', 'city', 'state', 'postcode']\n",
    "    ] = values.apply(pd.Series)\n",
    "\n",
    "stations_df.head()"
   ]
  },
  {
   "cell_type": "markdown",
   "id": "93a58e81",
   "metadata": {},
   "source": [
    "### 5a. Save Data"
   ]
  },
  {
   "cell_type": "code",
   "execution_count": null,
   "id": "89293b04",
   "metadata": {},
   "outputs": [],
   "source": [
    "stations_df.to_parquet('../data/saved_data/clean_citibike_stations.parquet')"
   ]
  }
 ],
 "metadata": {
  "kernelspec": {
   "display_name": "citi-bike-YzbtwJIY-py3.13",
   "language": "python",
   "name": "python3"
  },
  "language_info": {
   "codemirror_mode": {
    "name": "ipython",
    "version": 3
   },
   "file_extension": ".py",
   "mimetype": "text/x-python",
   "name": "python",
   "nbconvert_exporter": "python",
   "pygments_lexer": "ipython3",
   "version": "3.13.5"
  }
 },
 "nbformat": 4,
 "nbformat_minor": 5
}

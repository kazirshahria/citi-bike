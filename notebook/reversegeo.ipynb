{
 "cells": [
  {
   "cell_type": "markdown",
   "id": "a24bd6fe",
   "metadata": {},
   "source": [
    "# Reverse Geocoding Citi Bike Stations\n",
    "\n",
    "[Credit](https://towardsdatascience.com/reverse-geocoding-with-nyc-bike-share-data-cdef427987f8/)"
   ]
  },
  {
   "cell_type": "code",
   "execution_count": 1,
   "id": "2a32a4d8",
   "metadata": {},
   "outputs": [],
   "source": [
    "import pandas as pd\n",
    "from geopy.geocoders import Nominatim\n",
    "from geopy.extra.rate_limiter import RateLimiter\n",
    "\n",
    "import warnings\n",
    "warnings.filterwarnings('ignore')"
   ]
  },
  {
   "cell_type": "code",
   "execution_count": 2,
   "id": "f4decff7",
   "metadata": {},
   "outputs": [
    {
     "data": {
      "text/html": [
       "<div>\n",
       "<style scoped>\n",
       "    .dataframe tbody tr th:only-of-type {\n",
       "        vertical-align: middle;\n",
       "    }\n",
       "\n",
       "    .dataframe tbody tr th {\n",
       "        vertical-align: top;\n",
       "    }\n",
       "\n",
       "    .dataframe thead th {\n",
       "        text-align: right;\n",
       "    }\n",
       "</style>\n",
       "<table border=\"1\" class=\"dataframe\">\n",
       "  <thead>\n",
       "    <tr style=\"text-align: right;\">\n",
       "      <th></th>\n",
       "      <th>station_name</th>\n",
       "      <th>station_id</th>\n",
       "      <th>latitude</th>\n",
       "      <th>longitude</th>\n",
       "    </tr>\n",
       "  </thead>\n",
       "  <tbody>\n",
       "    <tr>\n",
       "      <th>0</th>\n",
       "      <td>W 36 St &amp; 7 Ave</td>\n",
       "      <td>6483.06</td>\n",
       "      <td>40.752149</td>\n",
       "      <td>-73.989539</td>\n",
       "    </tr>\n",
       "    <tr>\n",
       "      <th>1</th>\n",
       "      <td>Broadway &amp; E 19 St</td>\n",
       "      <td>5980.11</td>\n",
       "      <td>40.738290</td>\n",
       "      <td>-73.990060</td>\n",
       "    </tr>\n",
       "    <tr>\n",
       "      <th>2</th>\n",
       "      <td>Jackson Ave &amp; 46 Rd</td>\n",
       "      <td>6203.02</td>\n",
       "      <td>40.745248</td>\n",
       "      <td>-73.947333</td>\n",
       "    </tr>\n",
       "    <tr>\n",
       "      <th>3</th>\n",
       "      <td>Willis Ave &amp; E 143 St</td>\n",
       "      <td>7798.02</td>\n",
       "      <td>40.812299</td>\n",
       "      <td>-73.920370</td>\n",
       "    </tr>\n",
       "    <tr>\n",
       "      <th>4</th>\n",
       "      <td>Grand Concourse &amp; E 167 St</td>\n",
       "      <td>8126.07</td>\n",
       "      <td>40.834263</td>\n",
       "      <td>-73.917641</td>\n",
       "    </tr>\n",
       "  </tbody>\n",
       "</table>\n",
       "</div>"
      ],
      "text/plain": [
       "                 station_name  station_id   latitude  longitude\n",
       "0             W 36 St & 7 Ave     6483.06  40.752149 -73.989539\n",
       "1          Broadway & E 19 St     5980.11  40.738290 -73.990060\n",
       "2         Jackson Ave & 46 Rd     6203.02  40.745248 -73.947333\n",
       "3       Willis Ave & E 143 St     7798.02  40.812299 -73.920370\n",
       "4  Grand Concourse & E 167 St     8126.07  40.834263 -73.917641"
      ]
     },
     "execution_count": 2,
     "metadata": {},
     "output_type": "execute_result"
    }
   ],
   "source": [
    "df = pd.read_csv('../data/citibike-stations.csv', index_col=[0])\n",
    "df.reset_index(drop=True, inplace=True)\n",
    "df.head()"
   ]
  },
  {
   "cell_type": "code",
   "execution_count": 3,
   "id": "c1cbbeb2",
   "metadata": {},
   "outputs": [],
   "source": [
    "geo = Nominatim(user_agent=\"kazirshahria@gmail.com\")\n",
    "reverse = RateLimiter(geo.reverse, min_delay_seconds=1, max_retries=2)"
   ]
  },
  {
   "cell_type": "code",
   "execution_count": 4,
   "id": "a0110b8f",
   "metadata": {},
   "outputs": [],
   "source": [
    "def reverse_geolocation(lat, long):\n",
    "    coordinate = f'{lat}, {long}'\n",
    "    response = reverse(coordinate)\n",
    "    address = response.raw['address']\n",
    "    neighborhood = address.get('neighbourhood')\n",
    "    borough = address.get('borough')\n",
    "    county = address.get('county')\n",
    "    city = address.get('city')\n",
    "    state = address.get('state')\n",
    "    postcode = address.get('postcode')\n",
    "    return (neighborhood, borough, county, city, state, postcode)\n",
    "\n",
    "values = df.apply(lambda col: reverse_geolocation(col['latitude'], col['longitude']), axis=1)"
   ]
  },
  {
   "cell_type": "code",
   "execution_count": 5,
   "id": "c2327350",
   "metadata": {},
   "outputs": [
    {
     "data": {
      "text/html": [
       "<div>\n",
       "<style scoped>\n",
       "    .dataframe tbody tr th:only-of-type {\n",
       "        vertical-align: middle;\n",
       "    }\n",
       "\n",
       "    .dataframe tbody tr th {\n",
       "        vertical-align: top;\n",
       "    }\n",
       "\n",
       "    .dataframe thead th {\n",
       "        text-align: right;\n",
       "    }\n",
       "</style>\n",
       "<table border=\"1\" class=\"dataframe\">\n",
       "  <thead>\n",
       "    <tr style=\"text-align: right;\">\n",
       "      <th></th>\n",
       "      <th>station_name</th>\n",
       "      <th>station_id</th>\n",
       "      <th>latitude</th>\n",
       "      <th>longitude</th>\n",
       "      <th>neighborhood</th>\n",
       "      <th>borough</th>\n",
       "      <th>county</th>\n",
       "      <th>city</th>\n",
       "      <th>state</th>\n",
       "      <th>postcode</th>\n",
       "    </tr>\n",
       "  </thead>\n",
       "  <tbody>\n",
       "    <tr>\n",
       "      <th>0</th>\n",
       "      <td>W 36 St &amp; 7 Ave</td>\n",
       "      <td>6483.06</td>\n",
       "      <td>40.752149</td>\n",
       "      <td>-73.989539</td>\n",
       "      <td>Garment District</td>\n",
       "      <td>Manhattan</td>\n",
       "      <td>New York County</td>\n",
       "      <td>City of New York</td>\n",
       "      <td>New York</td>\n",
       "      <td>10018</td>\n",
       "    </tr>\n",
       "    <tr>\n",
       "      <th>1</th>\n",
       "      <td>Broadway &amp; E 19 St</td>\n",
       "      <td>5980.11</td>\n",
       "      <td>40.738290</td>\n",
       "      <td>-73.990060</td>\n",
       "      <td>Union Square</td>\n",
       "      <td>Manhattan</td>\n",
       "      <td>New York County</td>\n",
       "      <td>City of New York</td>\n",
       "      <td>New York</td>\n",
       "      <td>10003</td>\n",
       "    </tr>\n",
       "    <tr>\n",
       "      <th>2</th>\n",
       "      <td>Jackson Ave &amp; 46 Rd</td>\n",
       "      <td>6203.02</td>\n",
       "      <td>40.745248</td>\n",
       "      <td>-73.947333</td>\n",
       "      <td>None</td>\n",
       "      <td>Queens</td>\n",
       "      <td>Queens County</td>\n",
       "      <td>City of New York</td>\n",
       "      <td>New York</td>\n",
       "      <td>11101</td>\n",
       "    </tr>\n",
       "    <tr>\n",
       "      <th>3</th>\n",
       "      <td>Willis Ave &amp; E 143 St</td>\n",
       "      <td>7798.02</td>\n",
       "      <td>40.812299</td>\n",
       "      <td>-73.920370</td>\n",
       "      <td>None</td>\n",
       "      <td>The Bronx</td>\n",
       "      <td>Bronx County</td>\n",
       "      <td>City of New York</td>\n",
       "      <td>New York</td>\n",
       "      <td>10454</td>\n",
       "    </tr>\n",
       "    <tr>\n",
       "      <th>4</th>\n",
       "      <td>Grand Concourse &amp; E 167 St</td>\n",
       "      <td>8126.07</td>\n",
       "      <td>40.834263</td>\n",
       "      <td>-73.917641</td>\n",
       "      <td>None</td>\n",
       "      <td>The Bronx</td>\n",
       "      <td>Bronx County</td>\n",
       "      <td>City of New York</td>\n",
       "      <td>New York</td>\n",
       "      <td>10456</td>\n",
       "    </tr>\n",
       "  </tbody>\n",
       "</table>\n",
       "</div>"
      ],
      "text/plain": [
       "                 station_name  station_id   latitude  longitude  \\\n",
       "0             W 36 St & 7 Ave     6483.06  40.752149 -73.989539   \n",
       "1          Broadway & E 19 St     5980.11  40.738290 -73.990060   \n",
       "2         Jackson Ave & 46 Rd     6203.02  40.745248 -73.947333   \n",
       "3       Willis Ave & E 143 St     7798.02  40.812299 -73.920370   \n",
       "4  Grand Concourse & E 167 St     8126.07  40.834263 -73.917641   \n",
       "\n",
       "       neighborhood    borough           county              city     state  \\\n",
       "0  Garment District  Manhattan  New York County  City of New York  New York   \n",
       "1      Union Square  Manhattan  New York County  City of New York  New York   \n",
       "2              None     Queens    Queens County  City of New York  New York   \n",
       "3              None  The Bronx     Bronx County  City of New York  New York   \n",
       "4              None  The Bronx     Bronx County  City of New York  New York   \n",
       "\n",
       "  postcode  \n",
       "0    10018  \n",
       "1    10003  \n",
       "2    11101  \n",
       "3    10454  \n",
       "4    10456  "
      ]
     },
     "execution_count": 5,
     "metadata": {},
     "output_type": "execute_result"
    }
   ],
   "source": [
    "df[['neighborhood', 'borough', 'county', 'city', 'state', 'postcode']] = values.apply(pd.Series)\n",
    "df.head()"
   ]
  },
  {
   "cell_type": "code",
   "execution_count": 11,
   "id": "fa1619e6",
   "metadata": {},
   "outputs": [],
   "source": [
    "df.drop_duplicates(subset='station_id', keep='first', inplace=True)"
   ]
  },
  {
   "cell_type": "code",
   "execution_count": 12,
   "id": "693c6fc9",
   "metadata": {},
   "outputs": [],
   "source": [
    "df.to_csv('../data/citibike-stations-clean.csv')"
   ]
  },
  {
   "cell_type": "code",
   "execution_count": 13,
   "id": "11ff9b0d",
   "metadata": {},
   "outputs": [],
   "source": [
    "df.to_parquet('../data/citibike-stations.parquet')"
   ]
  }
 ],
 "metadata": {
  "kernelspec": {
   "display_name": "citi-bike-YzbtwJIY-py3.13",
   "language": "python",
   "name": "python3"
  },
  "language_info": {
   "codemirror_mode": {
    "name": "ipython",
    "version": 3
   },
   "file_extension": ".py",
   "mimetype": "text/x-python",
   "name": "python",
   "nbconvert_exporter": "python",
   "pygments_lexer": "ipython3",
   "version": "3.13.5"
  }
 },
 "nbformat": 4,
 "nbformat_minor": 5
}
